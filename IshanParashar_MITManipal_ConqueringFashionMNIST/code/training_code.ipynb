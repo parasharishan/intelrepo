{
 "cells": [
  {
   "cell_type": "code",
   "execution_count": null,
   "id": "4aad7c1c-7909-43bc-b3d6-fda2e3ace0cc",
   "metadata": {},
   "outputs": [],
   "source": [
    "!pip install visualkeras\n",
    "!pip install numpy\n",
    "!pip install tensorflow\n",
    "!pip install pandas\n",
    "!pip install seaborn\n",
    "!pip install matplotlib\n",
    "!pip install scikit-learn\n",
    "import visualkeras\n",
    "import numpy as np\n",
    "import pandas as pd\n",
    "from sklearn.model_selection import train_test_split\n",
    "import tensorflow as tf\n",
    "from tensorflow.python import keras\n",
    "from tensorflow.python.keras.models import Sequential\n",
    "from tensorflow.python.keras.layers import Dense, Flatten, Conv2D, Dropout, MaxPooling2D\n",
    "from tensorflow.keras.callbacks import EarlyStopping,ReduceLROnPlateau\n",
    "from tensorflow.python.keras.utils import np_utils\n",
    "import seaborn as sns\n",
    "import matplotlib.pyplot as plt\n",
    "import os\n",
    "os.chdir(\"../\")\n",
    "%matplotlib inline "
   ]
  },
  {
   "cell_type": "markdown",
   "id": "2e165740-ecfb-4add-b417-2df56022298f",
   "metadata": {},
   "source": [
    "Predefining the global variables related to the dataset"
   ]
  },
  {
   "cell_type": "code",
   "execution_count": 5,
   "id": "64b8554a-1c63-495c-bb0f-6fb66f032391",
   "metadata": {},
   "outputs": [],
   "source": [
    "IMG_ROWS = 28\n",
    "IMG_COLS = 28\n",
    "NUM_CLASSES = 10\n",
    "#for validation test split\n",
    "TEST_SIZE = 0.10\n",
    "RANDOM_STATE = 42\n",
    "#for the model\n",
    "NO_EPOCHS = 50\n",
    "BATCH_SIZE = 32\n",
    "CLASSES = ['T-shirt/top', \n",
    "           'Trousers', \n",
    "           'Pullover', \n",
    "           'Dress', 'Coat', \n",
    "           'Sandal', \n",
    "           'Shirt', \n",
    "           'Sneaker', \n",
    "           'Bag', \n",
    "           'Ankle boot']"
   ]
  },
  {
   "cell_type": "markdown",
   "id": "47679d39-c173-44f4-94d5-c25c63c2f7df",
   "metadata": {},
   "source": [
    "Loading the dataset from the data folder"
   ]
  },
  {
   "cell_type": "code",
   "execution_count": 3,
   "id": "69279c3b-270e-4301-9a89-eb1580d8d4cd",
   "metadata": {},
   "outputs": [],
   "source": [
    "train=pd.read_csv(\"data/fashion-mnist_train.csv\")\n",
    "test=pd.read_csv(\"data/fashion-mnist_test.csv\")"
   ]
  },
  {
   "cell_type": "code",
   "execution_count": 6,
   "id": "b2ea8d10-29f2-4269-b4a6-4f8e30ed2df6",
   "metadata": {},
   "outputs": [],
   "source": [
    "def data_preprocessing(dataset):\n",
    "    out_y = np_utils.to_categorical(dataset.label, NUM_CLASSES) #one-hot encoding the feature\n",
    "    num_images = dataset.shape[0]\n",
    "    x_as_array = dataset.values[:,1:]\n",
    "    x_shaped_array = x_as_array.reshape(num_images, IMG_ROWS, IMG_COLS, 1)\n",
    "    out_x = x_shaped_array / 255 #normalizing the data\n",
    "    return out_x, out_y\n",
    "X, y = data_preprocessing(train)\n",
    "X_test, y_test = data_preprocessing(test)"
   ]
  },
  {
   "cell_type": "markdown",
   "id": "993488ee-6843-417d-8481-301e003788ae",
   "metadata": {},
   "source": [
    "Lets view the data now"
   ]
  },
  {
   "cell_type": "code",
   "execution_count": null,
   "id": "374c6256-7b3e-4b1c-8f32-587a5bc1abc3",
   "metadata": {},
   "outputs": [],
   "source": [
    "plt.figure(figsize=(10, 10))\n",
    "for i in range(36):\n",
    "    plt.subplot(6, 6, i + 1)\n",
    "    plt.xticks([])\n",
    "    plt.yticks([])\n",
    "    plt.grid(False)\n",
    "    plt.imshow(X[i]) #calling the .values of each row\n",
    "plt.show()"
   ]
  },
  {
   "cell_type": "markdown",
   "id": "484aa067-5d96-4fcd-9686-c32776c2961f",
   "metadata": {},
   "source": [
    "# Lets move on to the data augmentation segment"
   ]
  },
  {
   "cell_type": "code",
   "execution_count": 8,
   "id": "e17bfecb-5c5f-4d6d-ae54-010fecb47a63",
   "metadata": {
    "ExecuteTime": {
     "end_time": "2023-07-08T13:50:39.451711700Z",
     "start_time": "2023-07-08T13:50:36.314512400Z"
    },
    "colab": {},
    "colab_type": "code",
    "id": "p0NoaUEbdJIw"
   },
   "outputs": [],
   "source": [
    "X_train, X_val, y_train, y_val = train_test_split(X, y, test_size=TEST_SIZE, random_state=RANDOM_STATE) # making the validation set"
   ]
  },
  {
   "cell_type": "code",
   "execution_count": 9,
   "id": "f0ca42f8-bd70-4faa-bfb6-dffaf52765a4",
   "metadata": {
    "ExecuteTime": {
     "end_time": "2023-07-08T13:50:40.764163600Z",
     "start_time": "2023-07-08T13:50:40.742151900Z"
    },
    "colab": {
     "base_uri": "https://localhost:8080/",
     "height": 71
    },
    "colab_type": "code",
    "id": "kYk28P4uG0kY",
    "outputId": "3ac8791e-d38c-4c4e-df3a-e15b480c5ff3"
   },
   "outputs": [],
   "source": [
    "datagen = tf.keras.preprocessing.image.ImageDataGenerator(\n",
    "    featurewise_center=True,\n",
    "    featurewise_std_normalization=True,\n",
    "    rotation_range=20,\n",
    "    width_shift_range=0.2,\n",
    "    height_shift_range=0.2,\n",
    "    horizontal_flip=True)"
   ]
  },
  {
   "cell_type": "code",
   "execution_count": 10,
   "id": "afde0115-641f-466a-9ef1-5f3f12364f18",
   "metadata": {},
   "outputs": [],
   "source": [
    "datagen.fit(X_train) #making the ImageDataGenerator ready"
   ]
  },
  {
   "cell_type": "markdown",
   "id": "048f9504-a7e8-4bfe-834d-6409ddd32223",
   "metadata": {},
   "source": [
    "# Lets move on now to make the model"
   ]
  },
  {
   "cell_type": "code",
   "execution_count": 11,
   "id": "df602714-c366-4678-9576-453d070c4f57",
   "metadata": {},
   "outputs": [],
   "source": [
    "model = Sequential()\n",
    "model.add(Conv2D(64, kernel_size=(3, 3),\n",
    "                 activation='relu',\n",
    "                 kernel_initializer='he_normal',\n",
    "                 padding='same',\n",
    "                 input_shape=(IMG_ROWS, IMG_COLS, 1)))\n",
    "model.add(Conv2D(64, \n",
    "                 kernel_size=(3, 3), \n",
    "                 activation='relu',padding='same'))\n",
    "model.add(tf.keras.layers.BatchNormalization())\n",
    "model.add(MaxPooling2D(pool_size=(2, 2)))\n",
    "model.add(Dropout(0.3))\n",
    "model.add(Conv2D(128, kernel_size=(3, 3),\n",
    "                 activation='relu',\n",
    "                 kernel_initializer='he_normal',\n",
    "                 padding='same',\n",
    "                 input_shape=(IMG_ROWS, IMG_COLS, 1)))\n",
    "model.add(Conv2D(128, \n",
    "                 kernel_size=(3, 3), \n",
    "                 padding='same',\n",
    "                 activation='relu'))\n",
    "model.add(tf.keras.layers.BatchNormalization())\n",
    "model.add(MaxPooling2D(pool_size=(2, 2)))\n",
    "model.add(Dropout(0.3))\n",
    "\n",
    "model.add(Conv2D(256, kernel_size=(3, 3),\n",
    "                 activation='relu',\n",
    "                 kernel_initializer='he_normal',\n",
    "                 padding='same',\n",
    "                 input_shape=(IMG_ROWS, IMG_COLS, 1)))\n",
    "model.add(Conv2D(256, \n",
    "                 kernel_size=(3, 3), \n",
    "                 padding='same',\n",
    "                 activation='relu'))\n",
    "model.add(Conv2D(256, \n",
    "                 kernel_size=(3, 3), \n",
    "                 padding='same',\n",
    "                 activation='relu'))\n",
    "model.add(tf.keras.layers.BatchNormalization())\n",
    "model.add(MaxPooling2D(pool_size=(2, 2)))\n",
    "model.add(Dropout(0.3))\n",
    "model.add(Conv2D(128, (3, 3), activation='relu'))\n",
    "model.add(Flatten())\n",
    "model.add(Dense(2048, activation='relu'))\n",
    "model.add(Dropout(0.3))\n",
    "model.add(Dense(512, activation='relu'))\n",
    "model.add(Dense(NUM_CLASSES, activation='softmax'))\n",
    "\n",
    "\n",
    "model.compile(loss=keras.losses.categorical_crossentropy,\n",
    "              optimizer=\"Adam\",\n",
    "              metrics=['accuracy'])"
   ]
  },
  {
   "cell_type": "code",
   "execution_count": 12,
   "id": "3533225a-c429-447f-9e31-3bb821737e27",
   "metadata": {},
   "outputs": [
    {
     "data": {
      "image/png": "[encoded data removed]",
      "text/plain": [
       "<PIL.Image.Image image mode=RGBA size=1127x186>"
      ]
     },
     "execution_count": 12,
     "metadata": {},
     "output_type": "execute_result"
    }
   ],
   "source": [
    "visualkeras.layered_view(model, legend=True)"
   ]
  },
  {
   "cell_type": "code",
   "execution_count": null,
   "id": "f7a8a56f-3c1a-4c5d-b66b-3c9605983c16",
   "metadata": {},
   "outputs": [],
   "source": [
    "model.summary()"
   ]
  },
  {
   "cell_type": "code",
   "execution_count": null,
   "id": "443ae3fc-44ae-4d14-8047-b514c862ba0d",
   "metadata": {},
   "outputs": [],
   "source": [
    "reduce_lr_onplat = ReduceLROnPlateau(monitor='val_loss', factor=0.2,\n",
    "                              patience=3, min_lr=0.0001)\n",
    "early_stopper=EarlyStopping(monitor='val_loss', patience=3)\n",
    "\n",
    "train_model = model.fit(X_train, y_train,\n",
    "                  batch_size=BATCH_SIZE,\n",
    "                  epochs=NO_EPOCHS,\n",
    "                  verbose=1,\n",
    "                  validation_data=(X_val, y_val),callbacks=[reduce_lr_onplat])"
   ]
  },
  {
   "cell_type": "markdown",
   "id": "7db47d33",
   "metadata": {},
   "source": [
    "# Now lets evaluate the model and plot some characterestics"
   ]
  },
  {
   "cell_type": "code",
   "execution_count": null,
   "id": "eb5c22d1-01ea-4ad4-8b03-84b5a2731bec",
   "metadata": {},
   "outputs": [],
   "source": [
    "model.evaluate(X_test, y_test)"
   ]
  },
  {
   "cell_type": "code",
   "execution_count": null,
   "id": "9ab8dfd3",
   "metadata": {},
   "outputs": [],
   "source": [
    "plt.plot(train_model.history['val_loss'], label=\"Validation Loss\")\n",
    "plt.plot(train_model.history['loss'], label=\"Training Loss\")\n",
    "plt.xlabel(\"Epochs\")\n",
    "plt.ylabel('Loss')\n",
    "plt.legend()\n",
    "plt.show()"
   ]
  },
  {
   "cell_type": "code",
   "execution_count": null,
   "id": "cfac9ed8",
   "metadata": {},
   "outputs": [],
   "source": [
    "plt.plot(train_model.history['val_accuracy'], label=\"Validation Acc.\")\n",
    "plt.plot(train_model.history['accuracy'], label=\"Training Acc.\")\n",
    "plt.xlabel(\"Epochs\")\n",
    "plt.ylabel('Accuracy')\n",
    "plt.legend()\n",
    "plt.show()"
   ]
  }
 ],
 "metadata": {
  "kernelspec": {
   "display_name": "base",
   "language": "python",
   "name": "python3"
  },
  "language_info": {
   "codemirror_mode": {
    "name": "ipython",
    "version": 3
   },
   "file_extension": ".py",
   "mimetype": "text/x-python",
   "name": "python",
   "nbconvert_exporter": "python",
   "pygments_lexer": "ipython3",
   "version": "3.10.9"
  }
 },
 "nbformat": 4,
 "nbformat_minor": 5
}
