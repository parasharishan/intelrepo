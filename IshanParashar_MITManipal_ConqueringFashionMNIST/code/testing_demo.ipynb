{
 "cells": [
  {
   "cell_type": "code",
   "execution_count": 1,
   "metadata": {},
   "outputs": [],
   "source": [
    "CLASSES = ['T-shirt/top', \n",
    "           'Trousers', \n",
    "           'Pullover', \n",
    "           'Dress', 'Coat', \n",
    "           'Sandal', \n",
    "           'Shirt', \n",
    "           'Sneaker', \n",
    "           'Bag', \n",
    "           'Ankle boot']"
   ]
  },
  {
   "cell_type": "code",
   "execution_count": 2,
   "metadata": {
    "ExecuteTime": {
     "end_time": "2023-07-14T11:36:30.891427400Z",
     "start_time": "2023-07-14T11:36:13.065739300Z"
    },
    "tags": []
   },
   "outputs": [],
   "source": [
    "import tensorflow as tf\n",
    "import numpy as np\n",
    "from tensorflow.python.keras.utils import np_utils\n",
    "import pandas as pd\n",
    "import matplotlib.pyplot as plt\n",
    "import random"
   ]
  },
  {
   "cell_type": "code",
   "execution_count": 3,
   "metadata": {},
   "outputs": [],
   "source": [
    "import os\n",
    "os.chdir('../')"
   ]
  },
  {
   "cell_type": "markdown",
   "metadata": {},
   "source": [
    "Run the above cells only once after starting the Kernel as they might cause directory errors if run twice\n",
    "Restart the kernel if file or model not found"
   ]
  },
  {
   "cell_type": "code",
   "execution_count": 5,
   "metadata": {
    "ExecuteTime": {
     "start_time": "2023-07-14T11:36:30.892426300Z"
    },
    "collapsed": false,
    "is_executing": true,
    "jupyter": {
     "outputs_hidden": false
    }
   },
   "outputs": [],
   "source": [
    "new_model = tf.keras.models.load_model('models/model')"
   ]
  },
  {
   "cell_type": "markdown",
   "metadata": {},
   "source": [
    "A summary of our model:"
   ]
  },
  {
   "cell_type": "code",
   "execution_count": null,
   "metadata": {
    "collapsed": false,
    "is_executing": true,
    "jupyter": {
     "outputs_hidden": false
    }
   },
   "outputs": [],
   "source": [
    "new_model.summary()"
   ]
  },
  {
   "cell_type": "markdown",
   "metadata": {},
   "source": [
    "Now lets evaluate the accuracy of the model!"
   ]
  },
  {
   "cell_type": "code",
   "execution_count": 7,
   "metadata": {},
   "outputs": [],
   "source": [
    "train = pd.read_csv(\"data/fashion-mnist_train.csv\")\n",
    "test = pd.read_csv(\"data/fashion-mnist_test.csv\")\n",
    "def data_preprocessing(dataset):\n",
    "    out_y = np_utils.to_categorical(dataset.label, 10)\n",
    "    num_images = dataset.shape[0]\n",
    "    x_as_array = dataset.values[:,1:]\n",
    "    x_shaped_array = x_as_array.reshape(num_images, 28, 28, 1)\n",
    "    out_x = x_shaped_array / 255\n",
    "    return out_x, out_y\n",
    "X, y = data_preprocessing(train)\n",
    "X_test, y_test = data_preprocessing(test)"
   ]
  },
  {
   "cell_type": "markdown",
   "metadata": {},
   "source": [
    "We have to pre process our inputs so as to input it into the model, we have followed the same preprocessing techniques as the training code"
   ]
  },
  {
   "cell_type": "code",
   "execution_count": null,
   "metadata": {
    "ExecuteTime": {
     "end_time": "2023-07-08T13:47:49.982971700Z",
     "start_time": "2023-07-08T13:47:42.012683300Z"
    },
    "collapsed": false,
    "jupyter": {
     "outputs_hidden": false
    }
   },
   "outputs": [],
   "source": [
    "print(f\"Test Accuracy : {new_model.evaluate(X_test, y_test)[1]*100}%\\nTraining Accuracy : {new_model.evaluate(X, y)[1]*100}%\")\n"
   ]
  },
  {
   "cell_type": "markdown",
   "metadata": {},
   "source": [
    "Lets make predictions and see how our model judges random images"
   ]
  },
  {
   "cell_type": "code",
   "execution_count": null,
   "metadata": {},
   "outputs": [],
   "source": [
    "probability_model = tf.keras.Sequential([new_model, \n",
    "                                         tf.keras.layers.Softmax()])\n",
    "predictions = probability_model.predict(X_test)"
   ]
  },
  {
   "cell_type": "markdown",
   "metadata": {},
   "source": [
    "You can keep re running the below cell and see different predictions"
   ]
  },
  {
   "cell_type": "code",
   "execution_count": null,
   "metadata": {},
   "outputs": [],
   "source": [
    "integer_select = random.randint(0,10000)\n",
    "plt.figure()\n",
    "plt.imshow(X_test[integer_select])\n",
    "plt.colorbar()\n",
    "plt.grid(False)\n",
    "plt.xlabel(f\"Predicted class : {CLASSES[np.argmax(predictions[integer_select])]} Actual Class : {CLASSES[np.argmax(y_test[integer_select])]}\")\n",
    "plt.show()"
   ]
  }
 ],
 "metadata": {
  "kernelspec": {
   "display_name": "base",
   "language": "python",
   "name": "python3"
  },
  "language_info": {
   "codemirror_mode": {
    "name": "ipython",
    "version": 3
   },
   "file_extension": ".py",
   "mimetype": "text/x-python",
   "name": "python",
   "nbconvert_exporter": "python",
   "pygments_lexer": "ipython3",
   "version": "3.10.9"
  }
 },
 "nbformat": 4,
 "nbformat_minor": 4
}
